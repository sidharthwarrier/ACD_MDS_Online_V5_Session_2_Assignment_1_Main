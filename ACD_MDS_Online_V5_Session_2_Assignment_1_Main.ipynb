{
 "cells": [
  {
   "cell_type": "markdown",
   "metadata": {},
   "source": [
    "# Session 2 Assignment 1\n"
   ]
  },
  {
   "cell_type": "markdown",
   "metadata": {},
   "source": [
    "1. Write a program which accepts a sequence of comma-separated numbers from console and\n",
    "generate a list."
   ]
  },
  {
   "cell_type": "code",
   "execution_count": 4,
   "metadata": {},
   "outputs": [
    {
     "name": "stdout",
     "output_type": "stream",
     "text": [
      "Please input the comma separated values : 2,9,8,6\n",
      "Converted list is : ['2', '9', '8', '6']\n"
     ]
    }
   ],
   "source": [
    "#Accept input from user\n",
    "values=input('Please input the comma separated values : ')\n",
    "#Split and convert the comma separated values into list\n",
    "values_list=values.split(',')\n",
    "#Print the list\n",
    "print(\"Converted list is : {}\".format(values_list))"
   ]
  },
  {
   "cell_type": "markdown",
   "metadata": {},
   "source": [
    "2. Create the below pattern using nested for loop in Python.\n",
    "<p>&ast;&nbsp;</p> \n",
    "<p>&ast;&nbsp; &ast;</p>\n",
    "<p>&ast;&nbsp; &ast;&nbsp; &ast;</p> \n",
    "<p>&ast;&nbsp; &ast; &nbsp;&ast;&nbsp; &ast;</p>\n",
    "<p>&ast;&nbsp; &ast;&nbsp; &ast; &nbsp;&ast;&nbsp; &ast;</p>\n",
    "<p>&ast;&nbsp; &ast;&nbsp; &ast; &nbsp;&ast;</p>\n",
    "<p>&ast;&nbsp; &ast; &nbsp;&ast;</p>\n",
    "<p>&ast; &nbsp;&ast;</p>\n",
    "<p>&ast;</p>"
   ]
  },
  {
   "cell_type": "code",
   "execution_count": 6,
   "metadata": {},
   "outputs": [
    {
     "name": "stdout",
     "output_type": "stream",
     "text": [
      "* \n",
      "\n",
      "* * \n",
      "\n",
      "* * * \n",
      "\n",
      "* * * * \n",
      "\n",
      "* * * * * \n",
      "\n",
      "* * * * \n",
      "\n",
      "* * * \n",
      "\n",
      "* * \n",
      "\n",
      "* \n",
      "\n"
     ]
    }
   ],
   "source": [
    "# Initialize n to the maximum number of stars\n",
    "n=5\n",
    "# Iterate over range(n)\n",
    "for i in range(0,n):\n",
    "#Iterate over range(i)\n",
    "    for j in range(0 , i+1):\n",
    "#print * , use end to avoid spaces in between the stars\n",
    "        print ('* ',end=\"\")\n",
    "    print ('\\n')\n",
    "    \n",
    "#Backward iteration\n",
    "for i in range(n-1,0,-1):\n",
    "#iterate over range(i)    \n",
    "    for j in range(i):\n",
    "        print('* ',end=\"\")\n",
    "    print('\\n')  "
   ]
  },
  {
   "cell_type": "markdown",
   "metadata": {},
   "source": [
    "3. Write a Python program to reverse a word after accepting the input from the user.\n",
    "<p>Sample Output:</p>\n",
    "<p>Input word: AcadGild</p>\n",
    "<p>Output: dilGdacA</p>"
   ]
  },
  {
   "cell_type": "code",
   "execution_count": 10,
   "metadata": {},
   "outputs": [
    {
     "name": "stdout",
     "output_type": "stream",
     "text": [
      "Please input any word to reverse :AcadGild\n",
      "Input word: AcadGild\n",
      "Output: dliGdacA\n"
     ]
    }
   ],
   "source": [
    "#Accept input from user\n",
    "input_word=input(\"Please input any word to reverse :\")\n",
    "#reverse the string using extented slicing\n",
    "reverse_word=input_word[::-1]\n",
    "print(\"Input word: {}\".format(input_word))\n",
    "print(\"Output: {}\".format(reverse_word))"
   ]
  },
  {
   "cell_type": "markdown",
   "metadata": {},
   "source": [
    "4. Write a Python Program to print the given string in the format specified in the sample\n",
    "output.\n",
    "WE, THE PEOPLE OF INDIA, having solemnly resolved to constitute India into a SOVEREIGN,\n",
    "SOCIALIST, SECULAR, DEMOCRATIC REPUBLIC and to secure to all its citizens\n",
    "\n",
    "\n",
    "Sample Output:    \n",
    "<br>WE, THE PEOPLE OF INDIA,</br>\n",
    "<br>&emsp;&emsp;&nbsp;having solemnly resolved to constitute India into a SOVEREIGN, !</br>\n",
    "<br>&emsp;&emsp;&emsp;&emsp;&emsp;&nbsp;SOCIALIST, SECULAR, DEMOCRATIC REPUBLIC</br>\n",
    "<br>&emsp;&emsp;&emsp;&emsp;&emsp;&nbsp;&nbsp;and to secure to all its citizens</br>"
   ]
  },
  {
   "cell_type": "code",
   "execution_count": 50,
   "metadata": {},
   "outputs": [
    {
     "data": {
      "text/plain": [
       "'WE, THE PEOPLE OF INDIA,                                                                                                           having solemnly resolved to constitute India into a SOVEREIGN, !                                                                      SOCIALIST, SECULAR, DEMOCRATIC REPUBLIC                                                                                        and to secure to all its citizens'"
      ]
     },
     "execution_count": 50,
     "metadata": {},
     "output_type": "execute_result"
    }
   ],
   "source": [
    "#Assign input string\n",
    "str=\"WE, THE PEOPLE OF INDIA, having solemnly resolved to constitute India into a SOVEREIGN,SOCIALIST,SECULAR,DEMOCRATIC REPUBLIC and to secure to all its citizens\"\n",
    "#use expand tabs to add tabs to input statement\n",
    "str_modify=\"WE, THE PEOPLE OF INDIA,\\t\\t\\t\\t\\t\\t\\t\\t\\t\\t\\t\\t\\t   having solemnly resolved to constitute India into a SOVEREIGN, !\\t\\t\\t\\t\\t\\t\\t\\t\\t SOCIALIST, SECULAR, DEMOCRATIC REPUBLIC \\t\\t\\t\\t\\t\\t\\t\\t\\t\\t\\tand to secure to all its citizens\".expandtabs()\n",
    "#Print modified  string\n",
    "str_modify"
   ]
  },
  {
   "cell_type": "code",
   "execution_count": null,
   "metadata": {},
   "outputs": [],
   "source": []
  }
 ],
 "metadata": {
  "kernelspec": {
   "display_name": "Python 3",
   "language": "python",
   "name": "python3"
  },
  "language_info": {
   "codemirror_mode": {
    "name": "ipython",
    "version": 3
   },
   "file_extension": ".py",
   "mimetype": "text/x-python",
   "name": "python",
   "nbconvert_exporter": "python",
   "pygments_lexer": "ipython3",
   "version": "3.6.5"
  }
 },
 "nbformat": 4,
 "nbformat_minor": 2
}
